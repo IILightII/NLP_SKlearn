{
 "cells": [
  {
   "cell_type": "code",
   "execution_count": 1,
   "metadata": {},
   "outputs": [],
   "source": [
    "import nltk"
   ]
  },
  {
   "cell_type": "code",
   "execution_count": 2,
   "metadata": {},
   "outputs": [
    {
     "name": "stdout",
     "output_type": "stream",
     "text": [
      "             Doc_1.txt  Doc_2.txt  Doc_3.txt\n",
      "analytics            1          1          0\n",
      "and                  1          1          1\n",
      "are                  1          1          0\n",
      "books                0          0          1\n",
      "domain               0          1          0\n",
      "equally              1          0          0\n",
      "for                  1          1          0\n",
      "important            1          1          0\n",
      "knowledge            0          1          0\n",
      "like                 0          0          1\n",
      "programming          1          0          0\n",
      "reading              0          0          1\n",
      "skills               2          1          0\n",
      "statistics           1          1          0\n",
      "travelling           0          0          1\n"
     ]
    }
   ],
   "source": [
    "import os\n",
    "import pandas as pd\n",
    "from sklearn.feature_extraction.text import CountVectorizer\n",
    "#function to create a dictionary with key as filenames and values as text for all the files in a given folder\n",
    "def CorpusFromDir(dir_path):\n",
    "    result = dict(docs=[open(os.path.join(dir_path,f)).read() for f in os.listdir(dir_path)],ColNames=map(lambda x:x,os.listdir(dir_path)))\n",
    "    return result\n",
    "docs = CorpusFromDir(\"C:/Users/Ahmed Khan/Desktop/Data\")\n",
    "#Initialize\n",
    "vectorizer = CountVectorizer()\n",
    "doc_vec = vectorizer.fit_transform(docs.get('docs'))\n",
    "#Create DataFrame\n",
    "df = pd.DataFrame(doc_vec.toarray().transpose(), index = vectorizer.get_feature_names())\n",
    "#Change column headers to be file names\n",
    "df.columns = docs.get('ColNames')\n",
    "print(df)"
   ]
  },
  {
   "cell_type": "code",
   "execution_count": 3,
   "metadata": {},
   "outputs": [
    {
     "name": "stdout",
     "output_type": "stream",
     "text": [
      "             Doc_1.txt  Doc_2.txt  Doc_3.txt\n",
      "analytics     0.276703   0.315269   0.000000\n",
      "and           0.214884   0.244835   0.283217\n",
      "are           0.276703   0.315269   0.000000\n",
      "books         0.000000   0.000000   0.479528\n",
      "domain        0.000000   0.414541   0.000000\n",
      "equally       0.363831   0.000000   0.000000\n",
      "for           0.276703   0.315269   0.000000\n",
      "important     0.276703   0.315269   0.000000\n",
      "knowledge     0.000000   0.414541   0.000000\n",
      "like          0.000000   0.000000   0.479528\n",
      "programming   0.363831   0.000000   0.000000\n",
      "reading       0.000000   0.000000   0.479528\n",
      "skills        0.553405   0.315269   0.000000\n",
      "statistics    0.276703   0.315269   0.000000\n",
      "travelling    0.000000   0.000000   0.479528\n"
     ]
    }
   ],
   "source": [
    "#TF-IDF\n",
    "from sklearn.feature_extraction.text import TfidfVectorizer\n",
    "vectorizer = TfidfVectorizer()\n",
    "docs = CorpusFromDir('C:/Users/Ahmed Khan/Desktop/Data')\n",
    "doc_vec = vectorizer.fit_transform(docs.get('docs'))\n",
    "#Create DataFrame\n",
    "df = pd.DataFrame(doc_vec.toarray().transpose(), index=vectorizer.get_feature_names())\n",
    "#Change column headers to be filenames\n",
    "df.columns = docs.get('ColNames')\n",
    "print(df)"
   ]
  },
  {
   "cell_type": "code",
   "execution_count": null,
   "metadata": {},
   "outputs": [],
   "source": []
  }
 ],
 "metadata": {
  "kernelspec": {
   "display_name": "Python 3",
   "language": "python",
   "name": "python3"
  },
  "language_info": {
   "codemirror_mode": {
    "name": "ipython",
    "version": 3
   },
   "file_extension": ".py",
   "mimetype": "text/x-python",
   "name": "python",
   "nbconvert_exporter": "python",
   "pygments_lexer": "ipython3",
   "version": "3.6.4"
  }
 },
 "nbformat": 4,
 "nbformat_minor": 2
}
