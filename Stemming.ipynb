{
 "cells": [
  {
   "cell_type": "code",
   "execution_count": 1,
   "metadata": {},
   "outputs": [],
   "source": [
    "import nltk"
   ]
  },
  {
   "cell_type": "code",
   "execution_count": 2,
   "metadata": {},
   "outputs": [
    {
     "name": "stdout",
     "output_type": "stream",
     "text": [
      "\n",
      "-------Porter Stemmer-------\n",
      "python\n",
      "python\n",
      "python\n",
      "python\n",
      "pythonli\n"
     ]
    }
   ],
   "source": [
    "#Simple Stemming\n",
    "from nltk import PorterStemmer, LancasterStemmer, SnowballStemmer\n",
    "#Porter Stemmer\n",
    "from nltk.tokenize import word_tokenize\n",
    "ps = PorterStemmer()\n",
    "example_words = [\"Python\", \"pythoner\", \"pythoning\", \"pythoned\", \"pythonly\"]\n",
    "print(\"\\n-------Porter Stemmer-------\")\n",
    "for w in example_words:\n",
    "    print(ps.stem(w))"
   ]
  },
  {
   "cell_type": "code",
   "execution_count": 3,
   "metadata": {},
   "outputs": [
    {
     "name": "stdout",
     "output_type": "stream",
     "text": [
      "\n",
      "-------Lancaster Stemmer-------\n",
      "python\n",
      "python\n",
      "python\n",
      "python\n",
      "python\n"
     ]
    }
   ],
   "source": [
    "#Lancaster Stemmer\n",
    "ls = LancasterStemmer()\n",
    "example_words = [\"Python\", \"pythoner\", \"pythoning\", \"pythoned\", \"pythonly\"]\n",
    "print(\"\\n-------Lancaster Stemmer-------\")\n",
    "for w in example_words:\n",
    "    print(ls.stem(w)) #'pythonly' is also converted to 'python' here"
   ]
  },
  {
   "cell_type": "code",
   "execution_count": 10,
   "metadata": {},
   "outputs": [
    {
     "name": "stdout",
     "output_type": "stream",
     "text": [
      "\n",
      "-------Snowball Stemmer-------\n",
      "python\n",
      "python\n",
      "python\n",
      "python\n",
      "python\n"
     ]
    }
   ],
   "source": [
    "#Snowball Stemmer\n",
    "ss = SnowballStemmer(language='english')\n",
    "example_words = [\"Python\", \"pythoner\", \"pythoning\", \"pythoned\", \"pythonly\"]\n",
    "print(\"\\n-------Snowball Stemmer-------\")\n",
    "for w in example_words:\n",
    "    print(ss.stem(w))"
   ]
  },
  {
   "cell_type": "code",
   "execution_count": null,
   "metadata": {},
   "outputs": [],
   "source": []
  }
 ],
 "metadata": {
  "kernelspec": {
   "display_name": "Python 3",
   "language": "python",
   "name": "python3"
  },
  "language_info": {
   "codemirror_mode": {
    "name": "ipython",
    "version": 3
   },
   "file_extension": ".py",
   "mimetype": "text/x-python",
   "name": "python",
   "nbconvert_exporter": "python",
   "pygments_lexer": "ipython3",
   "version": "3.6.4"
  }
 },
 "nbformat": 4,
 "nbformat_minor": 2
}
