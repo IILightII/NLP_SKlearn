{
 "cells": [
  {
   "cell_type": "code",
   "execution_count": 1,
   "metadata": {},
   "outputs": [],
   "source": [
    "import nltk"
   ]
  },
  {
   "cell_type": "code",
   "execution_count": 2,
   "metadata": {},
   "outputs": [
    {
     "name": "stdout",
     "output_type": "stream",
     "text": [
      "1-gram:  ['This', 'is', 'a', 'sample', 'English', 'sentence']\n",
      "2-gram:  ['This is', 'is a', 'a sample', 'sample English', 'English sentence']\n",
      "3-gram:  ['This is a', 'is a sample', 'a sample English', 'sample English sentence']\n",
      "4-gram:  ['This is a sample', 'is a sample English', 'a sample English sentence']\n",
      "5-gram:  ['This is a sample English', 'is a sample English sentence']\n",
      "6-gram:  ['This is a sample English sentence']\n"
     ]
    }
   ],
   "source": [
    "from nltk.util import ngrams\n",
    "from collections import Counter\n",
    "#Function to extract n-grams from text\n",
    "def get_ngrams(text,n):\n",
    "    n_grams = ngrams(nltk.word_tokenize(text),n)\n",
    "    return [' '.join(grams) for grams in n_grams]\n",
    "text = \"This is a sample English sentence\"\n",
    "print(\"1-gram: \",get_ngrams(text,1))\n",
    "print(\"2-gram: \",get_ngrams(text,2))\n",
    "print(\"3-gram: \",get_ngrams(text,3))\n",
    "print(\"4-gram: \",get_ngrams(text,4))\n",
    "print(\"5-gram: \",get_ngrams(text,5))\n",
    "print(\"6-gram: \",get_ngrams(text,6))"
   ]
  },
  {
   "cell_type": "code",
   "execution_count": null,
   "metadata": {},
   "outputs": [],
   "source": []
  }
 ],
 "metadata": {
  "kernelspec": {
   "display_name": "Python 3",
   "language": "python",
   "name": "python3"
  },
  "language_info": {
   "codemirror_mode": {
    "name": "ipython",
    "version": 3
   },
   "file_extension": ".py",
   "mimetype": "text/x-python",
   "name": "python",
   "nbconvert_exporter": "python",
   "pygments_lexer": "ipython3",
   "version": "3.6.4"
  }
 },
 "nbformat": 4,
 "nbformat_minor": 2
}
